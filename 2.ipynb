{
  "nbformat": 4,
  "nbformat_minor": 0,
  "metadata": {
    "colab": {
      "provenance": [],
      "authorship_tag": "ABX9TyPZcdNCBb+blxJDq8GzuReO",
      "include_colab_link": true
    },
    "kernelspec": {
      "name": "python3",
      "display_name": "Python 3"
    },
    "language_info": {
      "name": "python"
    }
  },
  "cells": [
    {
      "cell_type": "markdown",
      "metadata": {
        "id": "view-in-github",
        "colab_type": "text"
      },
      "source": [
        "<a href=\"https://colab.research.google.com/github/NayadaKhan/Python/blob/main/2.ipynb\" target=\"_parent\"><img src=\"https://colab.research.google.com/assets/colab-badge.svg\" alt=\"Open In Colab\"/></a>"
      ]
    },
    {
      "cell_type": "code",
      "execution_count": null,
      "metadata": {
        "colab": {
          "base_uri": "https://localhost:8080/"
        },
        "id": "156CqTVYlUwX",
        "outputId": "fb23d29c-8160-487b-b5b1-d179f778281a"
      },
      "outputs": [
        {
          "output_type": "stream",
          "name": "stdout",
          "text": [
            "Ни одна из этих строк\n",
            "не включает другую как подстроку.\n",
            "D\n"
          ]
        }
      ],
      "source": [
        "S1 = str(input())\n",
        "S2 = str(input())\n",
        "if S1 in S2 and S2 in S1:\n",
        "  print ('A')\n",
        "elif S1 in S2:\n",
        "  print ('B')\n",
        "elif S2 in S1:\n",
        "  print ('C')\n",
        "else:\n",
        "  print ('D')"
      ]
    },
    {
      "cell_type": "code",
      "source": [
        "S = str(input())\n",
        "print(S[1:len(S)-1])"
      ],
      "metadata": {
        "colab": {
          "base_uri": "https://localhost:8080/"
        },
        "id": "N71jAh9qoogQ",
        "outputId": "43e1b3c4-f497-4822-f2f4-95f52b8ad0fd"
      },
      "execution_count": null,
      "outputs": [
        {
          "output_type": "stream",
          "name": "stdout",
          "text": [
            "капустааааарка\n",
            "апустааааарк\n"
          ]
        }
      ]
    },
    {
      "cell_type": "code",
      "source": [
        "S = str(input())\n",
        "n = '://'\n",
        "A = S[S.find(n)+3:len(S)]\n",
        "B = A[:A.find('/')]\n",
        "print (B)"
      ],
      "metadata": {
        "colab": {
          "base_uri": "https://localhost:8080/"
        },
        "id": "d7zO5VP6pVCm",
        "outputId": "f8e0685e-ea5f-4b0c-9d1c-a25a1249c1d8"
      },
      "execution_count": null,
      "outputs": [
        {
          "output_type": "stream",
          "name": "stdout",
          "text": [
            "ftp://yandex.ru/hooray.php\n",
            "yandex.ru\n"
          ]
        }
      ]
    },
    {
      "cell_type": "code",
      "source": [
        "s = str(input())\n",
        "s = s.replace('-','')\n",
        "s = s.replace('(','')\n",
        "s = s.replace(')','')\n",
        "s = s.replace(' ','')\n",
        "print(s)"
      ],
      "metadata": {
        "colab": {
          "base_uri": "https://localhost:8080/"
        },
        "id": "ImO7EO7Ux3Jz",
        "outputId": "d30cd530-153e-4653-b9b6-ad720d2d2d27"
      },
      "execution_count": null,
      "outputs": [
        {
          "output_type": "stream",
          "name": "stdout",
          "text": [
            "+7(903) 965-17 -10\n",
            "+79039651710\n"
          ]
        }
      ]
    },
    {
      "cell_type": "code",
      "source": [
        "s = str(input())\n",
        "fin = ''\n",
        "for i in range(0,len(s)):\n",
        "  if 'a' <= s[i] < 'x' or 'A' <= s[i] < 'X':\n",
        "    fin += chr(ord(s[i])+3)\n",
        "  elif 'x' <= s[i] <= 'z' or 'X' <= s[i] <= 'Z':\n",
        "    fin += chr(ord(s[i])-23)\n",
        "  else:\n",
        "    fin += s[i]\n",
        "print(fin)"
      ],
      "metadata": {
        "colab": {
          "base_uri": "https://localhost:8080/"
        },
        "id": "43hMkI75YjH2",
        "outputId": "ce5daa84-c17f-468d-ab9e-7b523f511e02"
      },
      "execution_count": 5,
      "outputs": [
        {
          "output_type": "stream",
          "name": "stdout",
          "text": [
            "xyzXYZ\n",
            "abcABC\n"
          ]
        }
      ]
    }
  ]
}