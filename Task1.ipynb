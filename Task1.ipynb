{
  "cells": [
    {
      "cell_type": "markdown",
      "metadata": {
        "id": "view-in-github",
        "colab_type": "text"
      },
      "source": [
        "<a href=\"https://colab.research.google.com/github/NayadaKhan/Python/blob/main/Task1.ipynb\" target=\"_parent\"><img src=\"https://colab.research.google.com/assets/colab-badge.svg\" alt=\"Open In Colab\"/></a>"
      ]
    },
    {
      "cell_type": "code",
      "source": [
        "pip install ColabTurtle"
      ],
      "metadata": {
        "colab": {
          "base_uri": "https://localhost:8080/"
        },
        "id": "ufTlPfWBaNrz",
        "outputId": "25b88cb4-c350-41b3-d11e-d5be161ef304"
      },
      "execution_count": 3,
      "outputs": [
        {
          "output_type": "stream",
          "name": "stdout",
          "text": [
            "Collecting ColabTurtle\n",
            "  Downloading ColabTurtle-2.1.0.tar.gz (6.8 kB)\n",
            "  Preparing metadata (setup.py) ... \u001b[?25l\u001b[?25hdone\n",
            "Building wheels for collected packages: ColabTurtle\n",
            "  Building wheel for ColabTurtle (setup.py) ... \u001b[?25l\u001b[?25hdone\n",
            "  Created wheel for ColabTurtle: filename=ColabTurtle-2.1.0-py3-none-any.whl size=7642 sha256=4fbcd222be1d732f0f50f95bdf3bdefa74d2675b192a72d092dee40cfee180ed\n",
            "  Stored in directory: /root/.cache/pip/wheels/5b/86/e8/54f5c8c853606e3a3060bb2e60363cbed632374a12e0f33ffc\n",
            "Successfully built ColabTurtle\n",
            "Installing collected packages: ColabTurtle\n",
            "Successfully installed ColabTurtle-2.1.0\n"
          ]
        }
      ]
    },
    {
      "cell_type": "code",
      "execution_count": 4,
      "metadata": {
        "colab": {
          "base_uri": "https://localhost:8080/",
          "height": 522
        },
        "id": "y9CgOLniZNkL",
        "outputId": "70808c21-a67d-44ae-9208-feba080c9aa7"
      },
      "outputs": [
        {
          "output_type": "display_data",
          "data": {
            "text/plain": [
              "<IPython.core.display.HTML object>"
            ],
            "text/html": [
              "\n",
              "      <svg width=\"800\" height=\"500\">\n",
              "        <rect width=\"100%\" height=\"100%\" fill=\"black\"/>\n",
              "        <line x1=\"400.0\" y1=\"350.0\" x2=\"400.0\" y2=\"250.0\" stroke-linecap=\"round\" style=\"stroke:white;stroke-width:4\"/><line x1=\"400.0\" y1=\"250.0\" x2=\"430.0\" y2=\"301.962\" stroke-linecap=\"round\" style=\"stroke:white;stroke-width:4\"/><line x1=\"430.0\" y1=\"301.962\" x2=\"460.0\" y2=\"250.0\" stroke-linecap=\"round\" style=\"stroke:white;stroke-width:4\"/><line x1=\"460.0\" y1=\"250.0\" x2=\"460.0\" y2=\"350.0\" stroke-linecap=\"round\" style=\"stroke:white;stroke-width:4\"/><line x1=\"520.0\" y1=\"350.0\" x2=\"520.0\" y2=\"250.0\" stroke-linecap=\"round\" style=\"stroke:white;stroke-width:4\"/><line x1=\"520.0\" y1=\"250.0\" x2=\"545.0\" y2=\"250.0\" stroke-linecap=\"round\" style=\"stroke:white;stroke-width:4\"/><line x1=\"545.0\" y1=\"250.0\" x2=\"562.678\" y2=\"267.678\" stroke-linecap=\"round\" style=\"stroke:white;stroke-width:4\"/><line x1=\"562.678\" y1=\"267.678\" x2=\"562.678\" y2=\"292.678\" stroke-linecap=\"round\" style=\"stroke:white;stroke-width:4\"/><line x1=\"562.678\" y1=\"292.678\" x2=\"545.0\" y2=\"310.356\" stroke-linecap=\"round\" style=\"stroke:white;stroke-width:4\"/><line x1=\"545.0\" y1=\"310.356\" x2=\"520.0\" y2=\"310.356\" stroke-linecap=\"round\" style=\"stroke:white;stroke-width:4\"/><line x1=\"520.0\" y1=\"310.356\" x2=\"495.0\" y2=\"310.356\" stroke-linecap=\"round\" style=\"stroke:white;stroke-width:4\"/><line x1=\"495.0\" y1=\"310.356\" x2=\"477.322\" y2=\"292.678\" stroke-linecap=\"round\" style=\"stroke:white;stroke-width:4\"/><line x1=\"477.322\" y1=\"292.678\" x2=\"477.322\" y2=\"267.678\" stroke-linecap=\"round\" style=\"stroke:white;stroke-width:4\"/><line x1=\"477.322\" y1=\"267.678\" x2=\"495.0\" y2=\"250.0\" stroke-linecap=\"round\" style=\"stroke:white;stroke-width:4\"/><line x1=\"495.0\" y1=\"250.0\" x2=\"520.0\" y2=\"250.0\" stroke-linecap=\"round\" style=\"stroke:white;stroke-width:4\"/><line x1=\"580.0\" y1=\"350.0\" x2=\"580.0\" y2=\"310.0\" stroke-linecap=\"round\" style=\"stroke:white;stroke-width:4\"/><line x1=\"580.0\" y1=\"310.0\" x2=\"614.5\" y2=\"250.244\" stroke-linecap=\"round\" style=\"stroke:white;stroke-width:4\"/><line x1=\"614.5\" y1=\"250.244\" x2=\"585.0\" y2=\"301.339\" stroke-linecap=\"round\" style=\"stroke:white;stroke-width:4\"/><line x1=\"585.0\" y1=\"301.339\" x2=\"613.0\" y2=\"349.836\" stroke-linecap=\"round\" style=\"stroke:white;stroke-width:4\"/><line x1=\"613.0\" y1=\"349.836\" x2=\"585.0\" y2=\"301.339\" stroke-linecap=\"round\" style=\"stroke:white;stroke-width:4\"/><line x1=\"585.0\" y1=\"301.339\" x2=\"580.0\" y2=\"309.999\" stroke-linecap=\"round\" style=\"stroke:white;stroke-width:4\"/><line x1=\"580.0\" y1=\"309.999\" x2=\"580.0\" y2=\"249.999\" stroke-linecap=\"round\" style=\"stroke:white;stroke-width:4\"/>\n",
              "        <g visibility=visible transform=\"rotate(360.0,580.0,249.999) translate(562.0, 231.999)\">\n",
              "<path style=\" stroke:none;fill-rule:evenodd;fill:white;fill-opacity:1;\" d=\"M 18.214844 0.632812 C 16.109375 1.800781 15.011719 4.074219 15.074219 7.132812 L 15.085938 7.652344 L 14.785156 7.496094 C 13.476562 6.824219 11.957031 6.671875 10.40625 7.066406 C 8.46875 7.550781 6.515625 9.15625 4.394531 11.992188 C 3.0625 13.777344 2.679688 14.636719 3.042969 15.027344 L 3.15625 15.152344 L 3.519531 15.152344 C 4.238281 15.152344 4.828125 14.886719 8.1875 13.039062 C 9.386719 12.378906 10.371094 11.839844 10.378906 11.839844 C 10.386719 11.839844 10.355469 11.929688 10.304688 12.035156 C 9.832031 13.09375 9.257812 14.820312 8.96875 16.078125 C 7.914062 20.652344 8.617188 24.53125 11.070312 27.660156 C 11.351562 28.015625 11.363281 27.914062 10.972656 28.382812 C 8.925781 30.84375 7.945312 33.28125 8.238281 35.1875 C 8.289062 35.527344 8.28125 35.523438 8.917969 35.523438 C 10.941406 35.523438 13.074219 34.207031 15.136719 31.6875 C 15.359375 31.417969 15.328125 31.425781 15.5625 31.574219 C 16.292969 32.042969 18.023438 32.964844 18.175781 32.964844 C 18.335938 32.964844 19.941406 32.210938 20.828125 31.71875 C 20.996094 31.625 21.136719 31.554688 21.136719 31.558594 C 21.203125 31.664062 21.898438 32.414062 22.222656 32.730469 C 23.835938 34.300781 25.5625 35.132812 27.582031 35.300781 C 27.90625 35.328125 27.9375 35.308594 28.007812 34.984375 C 28.382812 33.242188 27.625 30.925781 25.863281 28.425781 L 25.542969 27.96875 L 25.699219 27.785156 C 28.945312 23.960938 29.132812 18.699219 26.257812 11.96875 L 26.207031 11.84375 L 27.945312 12.703125 C 31.53125 14.476562 32.316406 14.800781 33.03125 14.800781 C 33.976562 14.800781 33.78125 13.9375 32.472656 12.292969 C 28.519531 7.355469 25.394531 5.925781 21.921875 7.472656 L 21.558594 7.636719 L 21.578125 7.542969 C 21.699219 6.992188 21.761719 5.742188 21.699219 5.164062 C 21.496094 3.296875 20.664062 1.964844 19.003906 0.855469 C 18.480469 0.503906 18.457031 0.5 18.214844 0.632812\"/>\n",
              "</g>\n",
              "      </svg>\n",
              "    "
            ]
          },
          "metadata": {}
        }
      ],
      "source": [
        "from ColabTurtle.Turtle import *\n",
        "initializeTurtle()\n",
        "\n",
        "speed(10)\n",
        "\n",
        "penup()\n",
        "backward(100)\n",
        "pendown()\n",
        "forward(100)\n",
        "right(150)\n",
        "forward(60)\n",
        "left(120)\n",
        "forward(60)\n",
        "left(30)\n",
        "backward(100)\n",
        "right(90)\n",
        "penup()\n",
        "forward(60)\n",
        "pendown()\n",
        "left(360/4)\n",
        "forward(100)\n",
        "right(360/4)\n",
        "for i in 1, 2, 3, 4:\n",
        "    forward(25)\n",
        "    right(360/8)\n",
        "forward(25)\n",
        "for i in 1, 2, 3, 4, 5:\n",
        "    forward(25)\n",
        "    right(360/8)\n",
        "right(360/8)\n",
        "penup()\n",
        "forward(100)\n",
        "left(360/4)\n",
        "forward(60)\n",
        "pendown()\n",
        "left(360/4)\n",
        "forward(40)\n",
        "right(30)\n",
        "forward(69)\n",
        "right(180)\n",
        "forward(59)\n",
        "left(60)\n",
        "forward(56)\n",
        "right(180)\n",
        "forward(56)\n",
        "left(120)\n",
        "forward(10)\n",
        "right(150)\n",
        "forward(60)"
      ]
    },
    {
      "cell_type": "code",
      "source": [
        "from ColabTurtle.Turtle import *\n",
        "initializeTurtle()\n",
        "\n",
        "speed(10)\n",
        "\n",
        "for step in 1, 2, 3, 4, 5, ..., 15:\n",
        "    right(44)\n",
        "    forward(128)\n",
        "    right(100)"
      ],
      "metadata": {
        "colab": {
          "base_uri": "https://localhost:8080/",
          "height": 522
        },
        "id": "El94kGm4anWZ",
        "outputId": "a23e8c4b-9740-4159-876f-4462ae2a304f"
      },
      "execution_count": 5,
      "outputs": [
        {
          "output_type": "display_data",
          "data": {
            "text/plain": [
              "<IPython.core.display.HTML object>"
            ],
            "text/html": [
              "\n",
              "      <svg width=\"800\" height=\"500\">\n",
              "        <rect width=\"100%\" height=\"100%\" fill=\"black\"/>\n",
              "        <line x1=\"400\" y1=\"250\" x2=\"488.916\" y2=\"157.925\" stroke-linecap=\"round\" style=\"stroke:white;stroke-width:4\"/><line x1=\"488.916\" y1=\"157.925\" x2=\"471.102\" y2=\"284.679\" stroke-linecap=\"round\" style=\"stroke:white;stroke-width:4\"/><line x1=\"471.102\" y1=\"284.679\" x2=\"411.01\" y2=\"171.662\" stroke-linecap=\"round\" style=\"stroke:white;stroke-width:4\"/><line x1=\"411.01\" y1=\"171.662\" x2=\"526.056\" y2=\"227.774\" stroke-linecap=\"round\" style=\"stroke:white;stroke-width:4\"/><line x1=\"526.056\" y1=\"227.774\" x2=\"400.001\" y2=\"250.001\" stroke-linecap=\"round\" style=\"stroke:white;stroke-width:4\"/><line x1=\"400.001\" y1=\"250.001\" x2=\"488.917\" y2=\"157.926\" stroke-linecap=\"round\" style=\"stroke:white;stroke-width:4\"/><line x1=\"488.917\" y1=\"157.926\" x2=\"471.103\" y2=\"284.68\" stroke-linecap=\"round\" style=\"stroke:white;stroke-width:4\"/>\n",
              "        <g visibility=visible transform=\"rotate(288,471.103,284.68) translate(453.103, 266.68)\">\n",
              "<path style=\" stroke:none;fill-rule:evenodd;fill:white;fill-opacity:1;\" d=\"M 18.214844 0.632812 C 16.109375 1.800781 15.011719 4.074219 15.074219 7.132812 L 15.085938 7.652344 L 14.785156 7.496094 C 13.476562 6.824219 11.957031 6.671875 10.40625 7.066406 C 8.46875 7.550781 6.515625 9.15625 4.394531 11.992188 C 3.0625 13.777344 2.679688 14.636719 3.042969 15.027344 L 3.15625 15.152344 L 3.519531 15.152344 C 4.238281 15.152344 4.828125 14.886719 8.1875 13.039062 C 9.386719 12.378906 10.371094 11.839844 10.378906 11.839844 C 10.386719 11.839844 10.355469 11.929688 10.304688 12.035156 C 9.832031 13.09375 9.257812 14.820312 8.96875 16.078125 C 7.914062 20.652344 8.617188 24.53125 11.070312 27.660156 C 11.351562 28.015625 11.363281 27.914062 10.972656 28.382812 C 8.925781 30.84375 7.945312 33.28125 8.238281 35.1875 C 8.289062 35.527344 8.28125 35.523438 8.917969 35.523438 C 10.941406 35.523438 13.074219 34.207031 15.136719 31.6875 C 15.359375 31.417969 15.328125 31.425781 15.5625 31.574219 C 16.292969 32.042969 18.023438 32.964844 18.175781 32.964844 C 18.335938 32.964844 19.941406 32.210938 20.828125 31.71875 C 20.996094 31.625 21.136719 31.554688 21.136719 31.558594 C 21.203125 31.664062 21.898438 32.414062 22.222656 32.730469 C 23.835938 34.300781 25.5625 35.132812 27.582031 35.300781 C 27.90625 35.328125 27.9375 35.308594 28.007812 34.984375 C 28.382812 33.242188 27.625 30.925781 25.863281 28.425781 L 25.542969 27.96875 L 25.699219 27.785156 C 28.945312 23.960938 29.132812 18.699219 26.257812 11.96875 L 26.207031 11.84375 L 27.945312 12.703125 C 31.53125 14.476562 32.316406 14.800781 33.03125 14.800781 C 33.976562 14.800781 33.78125 13.9375 32.472656 12.292969 C 28.519531 7.355469 25.394531 5.925781 21.921875 7.472656 L 21.558594 7.636719 L 21.578125 7.542969 C 21.699219 6.992188 21.761719 5.742188 21.699219 5.164062 C 21.496094 3.296875 20.664062 1.964844 19.003906 0.855469 C 18.480469 0.503906 18.457031 0.5 18.214844 0.632812\"/>\n",
              "</g>\n",
              "      </svg>\n",
              "    "
            ]
          },
          "metadata": {}
        }
      ]
    },
    {
      "cell_type": "code",
      "source": [
        "n = int(input())\n",
        "if n > 0:\n",
        "  print('Positive')\n",
        "elif n < 0:\n",
        "  print('Negative')\n",
        "else:\n",
        "  print('Zero')"
      ],
      "metadata": {
        "colab": {
          "base_uri": "https://localhost:8080/"
        },
        "id": "p0ZLkT5lcVRa",
        "outputId": "560aa93b-f8b0-463c-eba0-c9ee4a5cc99d"
      },
      "execution_count": 21,
      "outputs": [
        {
          "output_type": "stream",
          "name": "stdout",
          "text": [
            "3\n",
            "Positive\n"
          ]
        }
      ]
    },
    {
      "cell_type": "code",
      "source": [
        "n = int(input())\n",
        "if n > 0:\n",
        "  for i in range(n):\n",
        "    print('+'*n)"
      ],
      "metadata": {
        "colab": {
          "base_uri": "https://localhost:8080/"
        },
        "id": "nQnW8AIMfaNH",
        "outputId": "07b2f096-9440-4e7c-995d-cc4596d3c2f7"
      },
      "execution_count": 26,
      "outputs": [
        {
          "name": "stdout",
          "output_type": "stream",
          "text": [
            "-4\n"
          ]
        }
      ]
    },
    {
      "cell_type": "code",
      "source": [
        "N = int(input())\n",
        "for i in range(N):\n",
        "  x = int(input())\n",
        "  if x > 0:\n",
        "    for j in range(1, x):\n",
        "      print (j, end = ' ')\n",
        "    print (x)"
      ],
      "metadata": {
        "colab": {
          "base_uri": "https://localhost:8080/"
        },
        "id": "uD-viQclg8TS",
        "outputId": "d6e4caed-b153-428e-a942-e671834b83ea"
      },
      "execution_count": 31,
      "outputs": [
        {
          "name": "stdout",
          "output_type": "stream",
          "text": [
            "3\n",
            "3\n",
            "1 2 3\n",
            "0\n",
            "-1\n"
          ]
        }
      ]
    }
  ],
  "metadata": {
    "colab": {
      "provenance": [],
      "authorship_tag": "ABX9TyMuXWDwW4YYptj7H3lLkGnt",
      "include_colab_link": true
    },
    "kernelspec": {
      "display_name": "Python 3",
      "name": "python3"
    },
    "language_info": {
      "name": "python"
    }
  },
  "nbformat": 4,
  "nbformat_minor": 0
}